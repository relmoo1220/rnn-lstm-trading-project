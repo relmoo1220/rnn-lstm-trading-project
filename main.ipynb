{
 "cells": [
  {
   "cell_type": "markdown",
   "metadata": {},
   "source": [
    "### Imports"
   ]
  },
  {
   "cell_type": "code",
   "execution_count": 1,
   "metadata": {},
   "outputs": [],
   "source": [
    "import numpy as np\n",
    "import matplotlib.pyplot as plt\n",
    "import pandas as pd\n",
    "import pandas_ta as ta\n",
    "import yfinance as yf\n",
    "import tensorflow as tf\n",
    "from tensorflow.keras.models import Sequential\n",
    "from tensorflow.keras.layers import LSTM, Dense, Input\n",
    "from sklearn.preprocessing import MinMaxScaler"
   ]
  },
  {
   "cell_type": "markdown",
   "metadata": {},
   "source": [
    "### Get the data from Yahoo Finance"
   ]
  },
  {
   "cell_type": "code",
   "execution_count": 2,
   "metadata": {},
   "outputs": [
    {
     "name": "stderr",
     "output_type": "stream",
     "text": [
      "[*********************100%***********************]  1 of 1 completed\n"
     ]
    },
    {
     "data": {
      "text/html": [
       "<div>\n",
       "<style scoped>\n",
       "    .dataframe tbody tr th:only-of-type {\n",
       "        vertical-align: middle;\n",
       "    }\n",
       "\n",
       "    .dataframe tbody tr th {\n",
       "        vertical-align: top;\n",
       "    }\n",
       "\n",
       "    .dataframe thead th {\n",
       "        text-align: right;\n",
       "    }\n",
       "</style>\n",
       "<table border=\"1\" class=\"dataframe\">\n",
       "  <thead>\n",
       "    <tr style=\"text-align: right;\">\n",
       "      <th></th>\n",
       "      <th>Open</th>\n",
       "      <th>High</th>\n",
       "      <th>Low</th>\n",
       "      <th>Close</th>\n",
       "      <th>Adj Close</th>\n",
       "      <th>Volume</th>\n",
       "    </tr>\n",
       "    <tr>\n",
       "      <th>Date</th>\n",
       "      <th></th>\n",
       "      <th></th>\n",
       "      <th></th>\n",
       "      <th></th>\n",
       "      <th></th>\n",
       "      <th></th>\n",
       "    </tr>\n",
       "  </thead>\n",
       "  <tbody>\n",
       "    <tr>\n",
       "      <th>2024-08-16</th>\n",
       "      <td>223.919998</td>\n",
       "      <td>226.830002</td>\n",
       "      <td>223.649994</td>\n",
       "      <td>226.050003</td>\n",
       "      <td>226.050003</td>\n",
       "      <td>44340200</td>\n",
       "    </tr>\n",
       "    <tr>\n",
       "      <th>2024-08-19</th>\n",
       "      <td>225.720001</td>\n",
       "      <td>225.990005</td>\n",
       "      <td>223.039993</td>\n",
       "      <td>225.889999</td>\n",
       "      <td>225.889999</td>\n",
       "      <td>40687800</td>\n",
       "    </tr>\n",
       "    <tr>\n",
       "      <th>2024-08-20</th>\n",
       "      <td>225.770004</td>\n",
       "      <td>227.169998</td>\n",
       "      <td>225.449997</td>\n",
       "      <td>226.509995</td>\n",
       "      <td>226.509995</td>\n",
       "      <td>30299000</td>\n",
       "    </tr>\n",
       "    <tr>\n",
       "      <th>2024-08-21</th>\n",
       "      <td>226.520004</td>\n",
       "      <td>227.979996</td>\n",
       "      <td>225.050003</td>\n",
       "      <td>226.399994</td>\n",
       "      <td>226.399994</td>\n",
       "      <td>34765500</td>\n",
       "    </tr>\n",
       "    <tr>\n",
       "      <th>2024-08-22</th>\n",
       "      <td>227.789993</td>\n",
       "      <td>228.339996</td>\n",
       "      <td>223.899994</td>\n",
       "      <td>224.529999</td>\n",
       "      <td>224.529999</td>\n",
       "      <td>43695300</td>\n",
       "    </tr>\n",
       "    <tr>\n",
       "      <th>2024-08-23</th>\n",
       "      <td>225.660004</td>\n",
       "      <td>228.220001</td>\n",
       "      <td>224.330002</td>\n",
       "      <td>226.839996</td>\n",
       "      <td>226.839996</td>\n",
       "      <td>38677300</td>\n",
       "    </tr>\n",
       "    <tr>\n",
       "      <th>2024-08-26</th>\n",
       "      <td>226.759995</td>\n",
       "      <td>227.279999</td>\n",
       "      <td>223.889999</td>\n",
       "      <td>227.179993</td>\n",
       "      <td>227.179993</td>\n",
       "      <td>30602200</td>\n",
       "    </tr>\n",
       "    <tr>\n",
       "      <th>2024-08-27</th>\n",
       "      <td>226.000000</td>\n",
       "      <td>228.850006</td>\n",
       "      <td>224.889999</td>\n",
       "      <td>228.029999</td>\n",
       "      <td>228.029999</td>\n",
       "      <td>35934600</td>\n",
       "    </tr>\n",
       "    <tr>\n",
       "      <th>2024-08-28</th>\n",
       "      <td>227.919998</td>\n",
       "      <td>229.860001</td>\n",
       "      <td>225.679993</td>\n",
       "      <td>226.490005</td>\n",
       "      <td>226.490005</td>\n",
       "      <td>38052200</td>\n",
       "    </tr>\n",
       "    <tr>\n",
       "      <th>2024-08-29</th>\n",
       "      <td>230.100006</td>\n",
       "      <td>232.919998</td>\n",
       "      <td>228.880005</td>\n",
       "      <td>229.789993</td>\n",
       "      <td>229.789993</td>\n",
       "      <td>51906300</td>\n",
       "    </tr>\n",
       "  </tbody>\n",
       "</table>\n",
       "</div>"
      ],
      "text/plain": [
       "                  Open        High         Low       Close   Adj Close  \\\n",
       "Date                                                                     \n",
       "2024-08-16  223.919998  226.830002  223.649994  226.050003  226.050003   \n",
       "2024-08-19  225.720001  225.990005  223.039993  225.889999  225.889999   \n",
       "2024-08-20  225.770004  227.169998  225.449997  226.509995  226.509995   \n",
       "2024-08-21  226.520004  227.979996  225.050003  226.399994  226.399994   \n",
       "2024-08-22  227.789993  228.339996  223.899994  224.529999  224.529999   \n",
       "2024-08-23  225.660004  228.220001  224.330002  226.839996  226.839996   \n",
       "2024-08-26  226.759995  227.279999  223.889999  227.179993  227.179993   \n",
       "2024-08-27  226.000000  228.850006  224.889999  228.029999  228.029999   \n",
       "2024-08-28  227.919998  229.860001  225.679993  226.490005  226.490005   \n",
       "2024-08-29  230.100006  232.919998  228.880005  229.789993  229.789993   \n",
       "\n",
       "              Volume  \n",
       "Date                  \n",
       "2024-08-16  44340200  \n",
       "2024-08-19  40687800  \n",
       "2024-08-20  30299000  \n",
       "2024-08-21  34765500  \n",
       "2024-08-22  43695300  \n",
       "2024-08-23  38677300  \n",
       "2024-08-26  30602200  \n",
       "2024-08-27  35934600  \n",
       "2024-08-28  38052200  \n",
       "2024-08-29  51906300  "
      ]
     },
     "execution_count": 2,
     "metadata": {},
     "output_type": "execute_result"
    }
   ],
   "source": [
    "# Start and end dates are in YYYY-MM-DD format\n",
    "data = yf.download(tickers = 'AAPL', start = '2014-08-30', end = '2024-08-30')\n",
    "data.tail(10)"
   ]
  },
  {
   "cell_type": "markdown",
   "metadata": {},
   "source": [
    "### Add Technical Indicators"
   ]
  },
  {
   "cell_type": "code",
   "execution_count": 3,
   "metadata": {},
   "outputs": [],
   "source": [
    "# RSI\n",
    "data['RSI'] = ta.rsi(data.Close, length=15) \n",
    "# Exponential Moving Average\n",
    "data['EMAF'] = ta.ema(data.Close, length=20) # Fast Moving Average\n",
    "data['EMAM'] = ta.ema(data.Close, length=100) # Medium Moving Average\n",
    "data['EMAS'] = ta.ema(data.Close, length=150) # Slow Moving Average"
   ]
  },
  {
   "cell_type": "markdown",
   "metadata": {},
   "source": [
    "### Add target for next closing price"
   ]
  },
  {
   "cell_type": "code",
   "execution_count": 4,
   "metadata": {},
   "outputs": [],
   "source": [
    "data['TargetNextClose'] = data['Adj Close'].shift(-1)"
   ]
  },
  {
   "cell_type": "markdown",
   "metadata": {},
   "source": [
    "### Cleanup"
   ]
  },
  {
   "cell_type": "code",
   "execution_count": 5,
   "metadata": {},
   "outputs": [],
   "source": [
    "data.dropna(inplace=True)\n",
    "data.reset_index(inplace=True)\n",
    "data.drop(['Volume', 'Close', 'Date'], axis=1, inplace=True)"
   ]
  },
  {
   "cell_type": "markdown",
   "metadata": {},
   "source": [
    "### Show the data with new columns"
   ]
  },
  {
   "cell_type": "code",
   "execution_count": 6,
   "metadata": {},
   "outputs": [
    {
     "data": {
      "text/html": [
       "<div>\n",
       "<style scoped>\n",
       "    .dataframe tbody tr th:only-of-type {\n",
       "        vertical-align: middle;\n",
       "    }\n",
       "\n",
       "    .dataframe tbody tr th {\n",
       "        vertical-align: top;\n",
       "    }\n",
       "\n",
       "    .dataframe thead th {\n",
       "        text-align: right;\n",
       "    }\n",
       "</style>\n",
       "<table border=\"1\" class=\"dataframe\">\n",
       "  <thead>\n",
       "    <tr style=\"text-align: right;\">\n",
       "      <th></th>\n",
       "      <th>Open</th>\n",
       "      <th>High</th>\n",
       "      <th>Low</th>\n",
       "      <th>Adj Close</th>\n",
       "      <th>RSI</th>\n",
       "      <th>EMAF</th>\n",
       "      <th>EMAM</th>\n",
       "      <th>EMAS</th>\n",
       "      <th>TargetNextClose</th>\n",
       "    </tr>\n",
       "  </thead>\n",
       "  <tbody>\n",
       "    <tr>\n",
       "      <th>2361</th>\n",
       "      <td>227.789993</td>\n",
       "      <td>228.339996</td>\n",
       "      <td>223.899994</td>\n",
       "      <td>224.529999</td>\n",
       "      <td>57.101556</td>\n",
       "      <td>221.445120</td>\n",
       "      <td>206.507854</td>\n",
       "      <td>200.413754</td>\n",
       "      <td>226.839996</td>\n",
       "    </tr>\n",
       "    <tr>\n",
       "      <th>2362</th>\n",
       "      <td>225.660004</td>\n",
       "      <td>228.220001</td>\n",
       "      <td>224.330002</td>\n",
       "      <td>226.839996</td>\n",
       "      <td>60.110704</td>\n",
       "      <td>221.958918</td>\n",
       "      <td>206.910470</td>\n",
       "      <td>200.763771</td>\n",
       "      <td>227.179993</td>\n",
       "    </tr>\n",
       "    <tr>\n",
       "      <th>2363</th>\n",
       "      <td>226.759995</td>\n",
       "      <td>227.279999</td>\n",
       "      <td>223.889999</td>\n",
       "      <td>227.179993</td>\n",
       "      <td>60.547126</td>\n",
       "      <td>222.456163</td>\n",
       "      <td>207.311847</td>\n",
       "      <td>201.113654</td>\n",
       "      <td>228.029999</td>\n",
       "    </tr>\n",
       "    <tr>\n",
       "      <th>2364</th>\n",
       "      <td>226.000000</td>\n",
       "      <td>228.850006</td>\n",
       "      <td>224.889999</td>\n",
       "      <td>228.029999</td>\n",
       "      <td>61.670425</td>\n",
       "      <td>222.987005</td>\n",
       "      <td>207.722107</td>\n",
       "      <td>201.470162</td>\n",
       "      <td>226.490005</td>\n",
       "    </tr>\n",
       "    <tr>\n",
       "      <th>2365</th>\n",
       "      <td>227.919998</td>\n",
       "      <td>229.860001</td>\n",
       "      <td>225.679993</td>\n",
       "      <td>226.490005</td>\n",
       "      <td>58.440513</td>\n",
       "      <td>223.320624</td>\n",
       "      <td>208.093749</td>\n",
       "      <td>201.801551</td>\n",
       "      <td>229.789993</td>\n",
       "    </tr>\n",
       "  </tbody>\n",
       "</table>\n",
       "</div>"
      ],
      "text/plain": [
       "            Open        High         Low   Adj Close        RSI        EMAF  \\\n",
       "2361  227.789993  228.339996  223.899994  224.529999  57.101556  221.445120   \n",
       "2362  225.660004  228.220001  224.330002  226.839996  60.110704  221.958918   \n",
       "2363  226.759995  227.279999  223.889999  227.179993  60.547126  222.456163   \n",
       "2364  226.000000  228.850006  224.889999  228.029999  61.670425  222.987005   \n",
       "2365  227.919998  229.860001  225.679993  226.490005  58.440513  223.320624   \n",
       "\n",
       "            EMAM        EMAS  TargetNextClose  \n",
       "2361  206.507854  200.413754       226.839996  \n",
       "2362  206.910470  200.763771       227.179993  \n",
       "2363  207.311847  201.113654       228.029999  \n",
       "2364  207.722107  201.470162       226.490005  \n",
       "2365  208.093749  201.801551       229.789993  "
      ]
     },
     "execution_count": 6,
     "metadata": {},
     "output_type": "execute_result"
    }
   ],
   "source": [
    "data_set = data.iloc[:, 0:9]\n",
    "pd.set_option('display.max_columns', None)\n",
    "\n",
    "data_set.tail(5)"
   ]
  },
  {
   "cell_type": "markdown",
   "metadata": {},
   "source": [
    "### Scale features to between 0 and 1"
   ]
  },
  {
   "cell_type": "code",
   "execution_count": 7,
   "metadata": {},
   "outputs": [
    {
     "name": "stdout",
     "output_type": "stream",
     "text": [
      "[[0.04397607 0.04251968 0.04331526 ... 0.02625489 0.01659413 0.03456815]\n",
      " [0.04188475 0.04051327 0.042117   ... 0.02644527 0.01683098 0.03557302]\n",
      " [0.04188475 0.04072325 0.04174922 ... 0.02665781 0.0170827  0.03613827]\n",
      " ...\n",
      " [0.95457519 0.95357248 0.9563407  ... 0.99573355 0.99610226 0.96951517]\n",
      " [0.95102348 0.96089827 0.96108628 ... 0.99797213 0.9981223  0.96231317]\n",
      " [0.95999627 0.96561099 0.96483525 ... 1.         1.         0.97774604]]\n"
     ]
    }
   ],
   "source": [
    "sc = MinMaxScaler(feature_range=(0,1))\n",
    "data_set_scaled = sc.fit_transform(data_set)\n",
    "print(data_set_scaled)"
   ]
  },
  {
   "cell_type": "markdown",
   "metadata": {},
   "source": []
  },
  {
   "cell_type": "code",
   "execution_count": 8,
   "metadata": {},
   "outputs": [
    {
     "name": "stdout",
     "output_type": "stream",
     "text": [
      "2366\n",
      "(2346, 20, 8)\n",
      "(2346, 1)\n"
     ]
    }
   ],
   "source": [
    "X = []\n",
    "# The number of historical candles used to predict\n",
    "backcandles = 20\n",
    "# Print number of rows in data_set_scaled\n",
    "print(data_set_scaled.shape[0])\n",
    "# Iterate through the first 8 columns to create time-series sequences based on last 10 candles\n",
    "for j in range(8):\n",
    "    # For each feature an empty list is appeneded to store the sequences\n",
    "    X.append([])\n",
    "    for i in range(backcandles, data_set_scaled.shape[0]):\n",
    "        # Append the sequence of the last 'backcandles' candles for feature j\n",
    "        X[j].append(data_set_scaled[i-backcandles:i, j])\n",
    "\n",
    "# Change the shape of X from a 2D list structure to a 3D numpy array\n",
    "X = np.moveaxis(X, [0], [2])\n",
    "\n",
    "# X consists of the features\n",
    "# yi is the TargetNextClose and it is the value we want to predict\n",
    "X, yi = np.array(X), np.array(data_set_scaled[backcandles:, -1])\n",
    "# Reshape y into 2D array where each entry represent single target value corresponding to each sequence in X\n",
    "y = np.reshape(yi, (len(yi), 1))\n",
    "\n",
    "print(X.shape)\n",
    "print(y.shape)"
   ]
  },
  {
   "cell_type": "markdown",
   "metadata": {},
   "source": [
    "### Split data into train test sets"
   ]
  },
  {
   "cell_type": "code",
   "execution_count": 9,
   "metadata": {},
   "outputs": [
    {
     "name": "stdout",
     "output_type": "stream",
     "text": [
      "1876\n",
      "(1876, 20, 8)\n",
      "(470, 20, 8)\n",
      "(1876, 1)\n",
      "(470, 1)\n"
     ]
    }
   ],
   "source": [
    "# Time series data so we take first 80% of the data to use for training and 20% of the later data to use for testing\n",
    "splitlimit = int(len(X)*0.8)\n",
    "print(splitlimit)\n",
    "X_train, X_test = X[:splitlimit], X[splitlimit:]\n",
    "y_train, y_test = y[:splitlimit], y[splitlimit:]\n",
    "print(X_train.shape)\n",
    "print(X_test.shape)\n",
    "print(y_train.shape)\n",
    "print(y_test.shape)"
   ]
  },
  {
   "cell_type": "markdown",
   "metadata": {},
   "source": [
    "### Create the model"
   ]
  },
  {
   "cell_type": "code",
   "execution_count": 10,
   "metadata": {},
   "outputs": [
    {
     "data": {
      "text/html": [
       "<pre style=\"white-space:pre;overflow-x:auto;line-height:normal;font-family:Menlo,'DejaVu Sans Mono',consolas,'Courier New',monospace\"><span style=\"font-weight: bold\">Model: \"sequential\"</span>\n",
       "</pre>\n"
      ],
      "text/plain": [
       "\u001b[1mModel: \"sequential\"\u001b[0m\n"
      ]
     },
     "metadata": {},
     "output_type": "display_data"
    },
    {
     "data": {
      "text/html": [
       "<pre style=\"white-space:pre;overflow-x:auto;line-height:normal;font-family:Menlo,'DejaVu Sans Mono',consolas,'Courier New',monospace\">┏━━━━━━━━━━━━━━━━━━━━━━━━━━━━━━━━━┳━━━━━━━━━━━━━━━━━━━━━━━━┳━━━━━━━━━━━━━━━┓\n",
       "┃<span style=\"font-weight: bold\"> Layer (type)                    </span>┃<span style=\"font-weight: bold\"> Output Shape           </span>┃<span style=\"font-weight: bold\">       Param # </span>┃\n",
       "┡━━━━━━━━━━━━━━━━━━━━━━━━━━━━━━━━━╇━━━━━━━━━━━━━━━━━━━━━━━━╇━━━━━━━━━━━━━━━┩\n",
       "│ lstm (<span style=\"color: #0087ff; text-decoration-color: #0087ff\">LSTM</span>)                     │ (<span style=\"color: #00d7ff; text-decoration-color: #00d7ff\">None</span>, <span style=\"color: #00af00; text-decoration-color: #00af00\">150</span>)            │        <span style=\"color: #00af00; text-decoration-color: #00af00\">95,400</span> │\n",
       "├─────────────────────────────────┼────────────────────────┼───────────────┤\n",
       "│ dense (<span style=\"color: #0087ff; text-decoration-color: #0087ff\">Dense</span>)                   │ (<span style=\"color: #00d7ff; text-decoration-color: #00d7ff\">None</span>, <span style=\"color: #00af00; text-decoration-color: #00af00\">1</span>)              │           <span style=\"color: #00af00; text-decoration-color: #00af00\">151</span> │\n",
       "└─────────────────────────────────┴────────────────────────┴───────────────┘\n",
       "</pre>\n"
      ],
      "text/plain": [
       "┏━━━━━━━━━━━━━━━━━━━━━━━━━━━━━━━━━┳━━━━━━━━━━━━━━━━━━━━━━━━┳━━━━━━━━━━━━━━━┓\n",
       "┃\u001b[1m \u001b[0m\u001b[1mLayer (type)                   \u001b[0m\u001b[1m \u001b[0m┃\u001b[1m \u001b[0m\u001b[1mOutput Shape          \u001b[0m\u001b[1m \u001b[0m┃\u001b[1m \u001b[0m\u001b[1m      Param #\u001b[0m\u001b[1m \u001b[0m┃\n",
       "┡━━━━━━━━━━━━━━━━━━━━━━━━━━━━━━━━━╇━━━━━━━━━━━━━━━━━━━━━━━━╇━━━━━━━━━━━━━━━┩\n",
       "│ lstm (\u001b[38;5;33mLSTM\u001b[0m)                     │ (\u001b[38;5;45mNone\u001b[0m, \u001b[38;5;34m150\u001b[0m)            │        \u001b[38;5;34m95,400\u001b[0m │\n",
       "├─────────────────────────────────┼────────────────────────┼───────────────┤\n",
       "│ dense (\u001b[38;5;33mDense\u001b[0m)                   │ (\u001b[38;5;45mNone\u001b[0m, \u001b[38;5;34m1\u001b[0m)              │           \u001b[38;5;34m151\u001b[0m │\n",
       "└─────────────────────────────────┴────────────────────────┴───────────────┘\n"
      ]
     },
     "metadata": {},
     "output_type": "display_data"
    },
    {
     "data": {
      "text/html": [
       "<pre style=\"white-space:pre;overflow-x:auto;line-height:normal;font-family:Menlo,'DejaVu Sans Mono',consolas,'Courier New',monospace\"><span style=\"font-weight: bold\"> Total params: </span><span style=\"color: #00af00; text-decoration-color: #00af00\">95,551</span> (373.25 KB)\n",
       "</pre>\n"
      ],
      "text/plain": [
       "\u001b[1m Total params: \u001b[0m\u001b[38;5;34m95,551\u001b[0m (373.25 KB)\n"
      ]
     },
     "metadata": {},
     "output_type": "display_data"
    },
    {
     "data": {
      "text/html": [
       "<pre style=\"white-space:pre;overflow-x:auto;line-height:normal;font-family:Menlo,'DejaVu Sans Mono',consolas,'Courier New',monospace\"><span style=\"font-weight: bold\"> Trainable params: </span><span style=\"color: #00af00; text-decoration-color: #00af00\">95,551</span> (373.25 KB)\n",
       "</pre>\n"
      ],
      "text/plain": [
       "\u001b[1m Trainable params: \u001b[0m\u001b[38;5;34m95,551\u001b[0m (373.25 KB)\n"
      ]
     },
     "metadata": {},
     "output_type": "display_data"
    },
    {
     "data": {
      "text/html": [
       "<pre style=\"white-space:pre;overflow-x:auto;line-height:normal;font-family:Menlo,'DejaVu Sans Mono',consolas,'Courier New',monospace\"><span style=\"font-weight: bold\"> Non-trainable params: </span><span style=\"color: #00af00; text-decoration-color: #00af00\">0</span> (0.00 B)\n",
       "</pre>\n"
      ],
      "text/plain": [
       "\u001b[1m Non-trainable params: \u001b[0m\u001b[38;5;34m0\u001b[0m (0.00 B)\n"
      ]
     },
     "metadata": {},
     "output_type": "display_data"
    }
   ],
   "source": [
    "model = Sequential()\n",
    "model.add(Input(shape=(backcandles, 8)))\n",
    "model.add(LSTM(150))\n",
    "model.add(Dense(1, activation=\"linear\"))\n",
    "\n",
    "# We use Mean Absolute Error for metrics to see the model's prediction deviate from actual values\n",
    "model.compile(optimizer='adam', loss='mse', metrics=['mae'])\n",
    "model.summary()"
   ]
  },
  {
   "cell_type": "markdown",
   "metadata": {},
   "source": [
    "### Train the model"
   ]
  },
  {
   "cell_type": "code",
   "execution_count": 11,
   "metadata": {},
   "outputs": [
    {
     "name": "stdout",
     "output_type": "stream",
     "text": [
      "Epoch 1/30\n",
      "\u001b[1m113/113\u001b[0m \u001b[32m━━━━━━━━━━━━━━━━━━━━\u001b[0m\u001b[37m\u001b[0m \u001b[1m2s\u001b[0m 8ms/step - loss: 0.0123 - mae: 0.0546 - val_loss: 9.9354e-04 - val_mae: 0.0255\n",
      "Epoch 2/30\n",
      "\u001b[1m113/113\u001b[0m \u001b[32m━━━━━━━━━━━━━━━━━━━━\u001b[0m\u001b[37m\u001b[0m \u001b[1m1s\u001b[0m 6ms/step - loss: 1.6886e-04 - mae: 0.0083 - val_loss: 9.0613e-04 - val_mae: 0.0242\n",
      "Epoch 3/30\n",
      "\u001b[1m113/113\u001b[0m \u001b[32m━━━━━━━━━━━━━━━━━━━━\u001b[0m\u001b[37m\u001b[0m \u001b[1m1s\u001b[0m 6ms/step - loss: 1.5047e-04 - mae: 0.0079 - val_loss: 0.0022 - val_mae: 0.0410\n",
      "Epoch 4/30\n",
      "\u001b[1m113/113\u001b[0m \u001b[32m━━━━━━━━━━━━━━━━━━━━\u001b[0m\u001b[37m\u001b[0m \u001b[1m1s\u001b[0m 6ms/step - loss: 1.5084e-04 - mae: 0.0081 - val_loss: 9.6581e-04 - val_mae: 0.0252\n",
      "Epoch 5/30\n",
      "\u001b[1m113/113\u001b[0m \u001b[32m━━━━━━━━━━━━━━━━━━━━\u001b[0m\u001b[37m\u001b[0m \u001b[1m1s\u001b[0m 6ms/step - loss: 1.3012e-04 - mae: 0.0078 - val_loss: 6.7677e-04 - val_mae: 0.0203\n",
      "Epoch 6/30\n",
      "\u001b[1m113/113\u001b[0m \u001b[32m━━━━━━━━━━━━━━━━━━━━\u001b[0m\u001b[37m\u001b[0m \u001b[1m1s\u001b[0m 6ms/step - loss: 1.2700e-04 - mae: 0.0072 - val_loss: 8.6798e-04 - val_mae: 0.0238\n",
      "Epoch 7/30\n",
      "\u001b[1m113/113\u001b[0m \u001b[32m━━━━━━━━━━━━━━━━━━━━\u001b[0m\u001b[37m\u001b[0m \u001b[1m1s\u001b[0m 6ms/step - loss: 1.5209e-04 - mae: 0.0083 - val_loss: 8.2787e-04 - val_mae: 0.0231\n",
      "Epoch 8/30\n",
      "\u001b[1m113/113\u001b[0m \u001b[32m━━━━━━━━━━━━━━━━━━━━\u001b[0m\u001b[37m\u001b[0m \u001b[1m1s\u001b[0m 6ms/step - loss: 1.2466e-04 - mae: 0.0073 - val_loss: 6.9042e-04 - val_mae: 0.0208\n",
      "Epoch 9/30\n",
      "\u001b[1m113/113\u001b[0m \u001b[32m━━━━━━━━━━━━━━━━━━━━\u001b[0m\u001b[37m\u001b[0m \u001b[1m1s\u001b[0m 6ms/step - loss: 1.1858e-04 - mae: 0.0071 - val_loss: 9.4181e-04 - val_mae: 0.0250\n",
      "Epoch 10/30\n",
      "\u001b[1m113/113\u001b[0m \u001b[32m━━━━━━━━━━━━━━━━━━━━\u001b[0m\u001b[37m\u001b[0m \u001b[1m1s\u001b[0m 6ms/step - loss: 1.3405e-04 - mae: 0.0075 - val_loss: 5.7143e-04 - val_mae: 0.0187\n",
      "Epoch 11/30\n",
      "\u001b[1m113/113\u001b[0m \u001b[32m━━━━━━━━━━━━━━━━━━━━\u001b[0m\u001b[37m\u001b[0m \u001b[1m1s\u001b[0m 6ms/step - loss: 1.2970e-04 - mae: 0.0074 - val_loss: 5.6915e-04 - val_mae: 0.0185\n",
      "Epoch 12/30\n",
      "\u001b[1m113/113\u001b[0m \u001b[32m━━━━━━━━━━━━━━━━━━━━\u001b[0m\u001b[37m\u001b[0m \u001b[1m1s\u001b[0m 6ms/step - loss: 1.1397e-04 - mae: 0.0074 - val_loss: 0.0015 - val_mae: 0.0337\n",
      "Epoch 13/30\n",
      "\u001b[1m113/113\u001b[0m \u001b[32m━━━━━━━━━━━━━━━━━━━━\u001b[0m\u001b[37m\u001b[0m \u001b[1m1s\u001b[0m 6ms/step - loss: 1.6313e-04 - mae: 0.0085 - val_loss: 5.7753e-04 - val_mae: 0.0189\n",
      "Epoch 14/30\n",
      "\u001b[1m113/113\u001b[0m \u001b[32m━━━━━━━━━━━━━━━━━━━━\u001b[0m\u001b[37m\u001b[0m \u001b[1m1s\u001b[0m 6ms/step - loss: 1.3810e-04 - mae: 0.0076 - val_loss: 5.8869e-04 - val_mae: 0.0191\n",
      "Epoch 15/30\n",
      "\u001b[1m113/113\u001b[0m \u001b[32m━━━━━━━━━━━━━━━━━━━━\u001b[0m\u001b[37m\u001b[0m \u001b[1m1s\u001b[0m 6ms/step - loss: 1.1854e-04 - mae: 0.0071 - val_loss: 5.4511e-04 - val_mae: 0.0183\n",
      "Epoch 16/30\n",
      "\u001b[1m113/113\u001b[0m \u001b[32m━━━━━━━━━━━━━━━━━━━━\u001b[0m\u001b[37m\u001b[0m \u001b[1m1s\u001b[0m 6ms/step - loss: 1.2908e-04 - mae: 0.0076 - val_loss: 5.9811e-04 - val_mae: 0.0190\n",
      "Epoch 17/30\n",
      "\u001b[1m113/113\u001b[0m \u001b[32m━━━━━━━━━━━━━━━━━━━━\u001b[0m\u001b[37m\u001b[0m \u001b[1m1s\u001b[0m 6ms/step - loss: 9.2311e-05 - mae: 0.0066 - val_loss: 6.4778e-04 - val_mae: 0.0198\n",
      "Epoch 18/30\n",
      "\u001b[1m113/113\u001b[0m \u001b[32m━━━━━━━━━━━━━━━━━━━━\u001b[0m\u001b[37m\u001b[0m \u001b[1m1s\u001b[0m 6ms/step - loss: 1.1454e-04 - mae: 0.0071 - val_loss: 5.6501e-04 - val_mae: 0.0189\n",
      "Epoch 19/30\n",
      "\u001b[1m113/113\u001b[0m \u001b[32m━━━━━━━━━━━━━━━━━━━━\u001b[0m\u001b[37m\u001b[0m \u001b[1m1s\u001b[0m 6ms/step - loss: 1.3976e-04 - mae: 0.0079 - val_loss: 5.1854e-04 - val_mae: 0.0180\n",
      "Epoch 20/30\n",
      "\u001b[1m113/113\u001b[0m \u001b[32m━━━━━━━━━━━━━━━━━━━━\u001b[0m\u001b[37m\u001b[0m \u001b[1m1s\u001b[0m 6ms/step - loss: 1.0682e-04 - mae: 0.0069 - val_loss: 5.1960e-04 - val_mae: 0.0180\n",
      "Epoch 21/30\n",
      "\u001b[1m113/113\u001b[0m \u001b[32m━━━━━━━━━━━━━━━━━━━━\u001b[0m\u001b[37m\u001b[0m \u001b[1m1s\u001b[0m 6ms/step - loss: 1.0837e-04 - mae: 0.0067 - val_loss: 0.0011 - val_mae: 0.0278\n",
      "Epoch 22/30\n",
      "\u001b[1m113/113\u001b[0m \u001b[32m━━━━━━━━━━━━━━━━━━━━\u001b[0m\u001b[37m\u001b[0m \u001b[1m1s\u001b[0m 6ms/step - loss: 1.2454e-04 - mae: 0.0073 - val_loss: 7.0711e-04 - val_mae: 0.0214\n",
      "Epoch 23/30\n",
      "\u001b[1m113/113\u001b[0m \u001b[32m━━━━━━━━━━━━━━━━━━━━\u001b[0m\u001b[37m\u001b[0m \u001b[1m1s\u001b[0m 6ms/step - loss: 1.1923e-04 - mae: 0.0073 - val_loss: 6.6272e-04 - val_mae: 0.0202\n",
      "Epoch 24/30\n",
      "\u001b[1m113/113\u001b[0m \u001b[32m━━━━━━━━━━━━━━━━━━━━\u001b[0m\u001b[37m\u001b[0m \u001b[1m1s\u001b[0m 6ms/step - loss: 1.0569e-04 - mae: 0.0071 - val_loss: 5.1598e-04 - val_mae: 0.0180\n",
      "Epoch 25/30\n",
      "\u001b[1m113/113\u001b[0m \u001b[32m━━━━━━━━━━━━━━━━━━━━\u001b[0m\u001b[37m\u001b[0m \u001b[1m1s\u001b[0m 6ms/step - loss: 1.3040e-04 - mae: 0.0075 - val_loss: 6.0336e-04 - val_mae: 0.0193\n",
      "Epoch 26/30\n",
      "\u001b[1m113/113\u001b[0m \u001b[32m━━━━━━━━━━━━━━━━━━━━\u001b[0m\u001b[37m\u001b[0m \u001b[1m1s\u001b[0m 6ms/step - loss: 1.2267e-04 - mae: 0.0074 - val_loss: 5.2147e-04 - val_mae: 0.0179\n",
      "Epoch 27/30\n",
      "\u001b[1m113/113\u001b[0m \u001b[32m━━━━━━━━━━━━━━━━━━━━\u001b[0m\u001b[37m\u001b[0m \u001b[1m1s\u001b[0m 6ms/step - loss: 8.6592e-05 - mae: 0.0060 - val_loss: 5.2987e-04 - val_mae: 0.0182\n",
      "Epoch 28/30\n",
      "\u001b[1m113/113\u001b[0m \u001b[32m━━━━━━━━━━━━━━━━━━━━\u001b[0m\u001b[37m\u001b[0m \u001b[1m1s\u001b[0m 6ms/step - loss: 1.0174e-04 - mae: 0.0066 - val_loss: 0.0016 - val_mae: 0.0340\n",
      "Epoch 29/30\n",
      "\u001b[1m113/113\u001b[0m \u001b[32m━━━━━━━━━━━━━━━━━━━━\u001b[0m\u001b[37m\u001b[0m \u001b[1m1s\u001b[0m 6ms/step - loss: 1.2767e-04 - mae: 0.0071 - val_loss: 5.2030e-04 - val_mae: 0.0181\n",
      "Epoch 30/30\n",
      "\u001b[1m113/113\u001b[0m \u001b[32m━━━━━━━━━━━━━━━━━━━━\u001b[0m\u001b[37m\u001b[0m \u001b[1m1s\u001b[0m 6ms/step - loss: 1.0981e-04 - mae: 0.0068 - val_loss: 5.4761e-04 - val_mae: 0.0186\n"
     ]
    },
    {
     "data": {
      "text/plain": [
       "<keras.src.callbacks.history.History at 0x17d6e63f410>"
      ]
     },
     "execution_count": 11,
     "metadata": {},
     "output_type": "execute_result"
    }
   ],
   "source": [
    "model.fit(X_train, y_train, batch_size=15, epochs=30, shuffle=True, validation_split=0.1)"
   ]
  },
  {
   "cell_type": "markdown",
   "metadata": {},
   "source": [
    "### Test the model"
   ]
  },
  {
   "cell_type": "code",
   "execution_count": 12,
   "metadata": {},
   "outputs": [
    {
     "name": "stdout",
     "output_type": "stream",
     "text": [
      "\u001b[1m15/15\u001b[0m \u001b[32m━━━━━━━━━━━━━━━━━━━━\u001b[0m\u001b[37m\u001b[0m \u001b[1m0s\u001b[0m 11ms/step\n",
      "[0.564206] [0.56180242]\n",
      "[0.5587785] [0.5680006]\n",
      "[0.56800246] [0.56850926]\n",
      "[0.5746251] [0.56633535]\n",
      "[0.57523686] [0.58428194]\n",
      "[0.57503086] [0.59436525]\n",
      "[0.5857112] [0.60773268]\n",
      "[0.59573907] [0.59390284]\n",
      "[0.6077014] [0.57285715]\n",
      "[0.60272723] [0.62345905]\n"
     ]
    }
   ],
   "source": [
    "y_pred = model.predict(X_test)\n",
    "for i in range(10):\n",
    "    print(y_pred[i], y_test[i])"
   ]
  },
  {
   "cell_type": "markdown",
   "metadata": {},
   "source": [
    "### Plot the price chart"
   ]
  },
  {
   "cell_type": "code",
   "execution_count": 13,
   "metadata": {},
   "outputs": [
    {
     "data": {
      "image/png": "[encoded data removed]",
      "text/plain": [
       "<Figure size 1600x800 with 1 Axes>"
      ]
     },
     "metadata": {},
     "output_type": "display_data"
    }
   ],
   "source": [
    "# Inverse transform predictions and actual values\n",
    "y_pred_inverse = sc.inverse_transform(np.concatenate([X_test[:, -1, :], y_pred], axis=1))[:, -1]\n",
    "y_test_inverse = sc.inverse_transform(np.concatenate([X_test[:, -1, :], y_test], axis=1))[:, -1]\n",
    "\n",
    "plt.figure(figsize=(16, 8))\n",
    "plt.plot(y_test_inverse, color='black', label='test')\n",
    "plt.plot(y_pred_inverse, color='green', label='predicted')\n",
    "plt.legend()\n",
    "plt.show()"
   ]
  }
 ],
 "metadata": {
  "kernelspec": {
   "display_name": "venv",
   "language": "python",
   "name": "python3"
  },
  "language_info": {
   "codemirror_mode": {
    "name": "ipython",
    "version": 3
   },
   "file_extension": ".py",
   "mimetype": "text/x-python",
   "name": "python",
   "nbconvert_exporter": "python",
   "pygments_lexer": "ipython3",
   "version": "3.11.0"
  }
 },
 "nbformat": 4,
 "nbformat_minor": 2
}
